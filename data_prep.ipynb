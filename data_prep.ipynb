{
 "cells": [
  {
   "cell_type": "markdown",
   "metadata": {
    "Collapsed": "false"
   },
   "source": [
    "# Data prep for Pump it Up project\n",
    "\n",
    "Back in the pcda class we did quite a bit of data prep work using R. Rarely is data ready for statistical/ML predictive modeling in its raw state. In this notebook we will do a few common data prep tasks in Python. This is not meant to be totally comprehensive and I make a bunch of big assumptions and take some shortcuts so that we can move on to modeling. A few of things we'll do, include:\n",
    "\n",
    "* reading in the raw data from csv files - pandas\n",
    "* automated EDA - pandas profiling and sweetviz\n",
    "* manual EDA - pandas and matplotlib/Seaborn\n",
    "* data type conversions - pandas\n",
    "* variable dropping - pandas\n",
    "* factor lumping - a port of R forcats package"
   ]
  },
  {
   "cell_type": "markdown",
   "metadata": {
    "Collapsed": "false"
   },
   "source": [
    "## Preliminaries"
   ]
  },
  {
   "cell_type": "code",
   "execution_count": 1,
   "metadata": {
    "Collapsed": "false"
   },
   "outputs": [],
   "source": [
    "# To auto-reload modules in jupyter notebook (so that changes in files *.py doesn't require manual reloading):\n",
    "# https://stackoverflow.com/questions/5364050/reloading-submodules-in-ipython\n",
    "%load_ext autoreload\n",
    "%autoreload 2"
   ]
  },
  {
   "cell_type": "markdown",
   "metadata": {
    "Collapsed": "false"
   },
   "source": [
    "Import commonly used libraries and magic command for inline plotting"
   ]
  },
  {
   "cell_type": "code",
   "execution_count": 2,
   "metadata": {
    "Collapsed": "false"
   },
   "outputs": [],
   "source": [
    "import numpy as np\n",
    "import pandas as pd\n",
    "import matplotlib.pyplot as plt\n",
    "import seaborn as sns\n"
   ]
  },
  {
   "cell_type": "code",
   "execution_count": 3,
   "metadata": {},
   "outputs": [],
   "source": [
    "%matplotlib inline"
   ]
  },
  {
   "cell_type": "markdown",
   "metadata": {
    "Collapsed": "false"
   },
   "source": [
    "## Read in raw data\n",
    "\n",
    "Let's do the following:\n",
    "\n",
    "* read in train_x and train_y to pandas dataframes,\n",
    "* merge the data frames into a single training dataframe."
   ]
  },
  {
   "cell_type": "code",
   "execution_count": 4,
   "metadata": {
    "Collapsed": "false"
   },
   "outputs": [],
   "source": [
    "train_x = pd.read_csv(\"./data/raw/train_x.csv\", parse_dates=['date_recorded'])\n",
    "train_y = pd.read_csv(\"./data/raw/train_y.csv\")"
   ]
  },
  {
   "cell_type": "markdown",
   "metadata": {},
   "source": [
    "We can join the two dataframes on the `id` column."
   ]
  },
  {
   "cell_type": "code",
   "execution_count": 5,
   "metadata": {},
   "outputs": [],
   "source": [
    "train_df = pd.merge(train_x, train_y, on='id')"
   ]
  },
  {
   "cell_type": "markdown",
   "metadata": {},
   "source": [
    "## Initial EDA\n",
    "\n",
    "As always, let's check out the structure of the dataframes and scan the values a bit."
   ]
  },
  {
   "cell_type": "code",
   "execution_count": 6,
   "metadata": {},
   "outputs": [
    {
     "name": "stdout",
     "output_type": "stream",
     "text": [
      "<class 'pandas.core.frame.DataFrame'>\n",
      "RangeIndex: 59400 entries, 0 to 59399\n",
      "Data columns (total 40 columns):\n",
      " #   Column                 Non-Null Count  Dtype         \n",
      "---  ------                 --------------  -----         \n",
      " 0   id                     59400 non-null  int64         \n",
      " 1   amount_tsh             59400 non-null  float64       \n",
      " 2   date_recorded          59400 non-null  datetime64[ns]\n",
      " 3   funder                 55765 non-null  object        \n",
      " 4   gps_height             59400 non-null  int64         \n",
      " 5   installer              55745 non-null  object        \n",
      " 6   longitude              59400 non-null  float64       \n",
      " 7   latitude               59400 non-null  float64       \n",
      " 8   wpt_name               59400 non-null  object        \n",
      " 9   num_private            59400 non-null  int64         \n",
      " 10  basin                  59400 non-null  object        \n",
      " 11  subvillage             59029 non-null  object        \n",
      " 12  region                 59400 non-null  object        \n",
      " 13  region_code            59400 non-null  int64         \n",
      " 14  district_code          59400 non-null  int64         \n",
      " 15  lga                    59400 non-null  object        \n",
      " 16  ward                   59400 non-null  object        \n",
      " 17  population             59400 non-null  int64         \n",
      " 18  public_meeting         56066 non-null  object        \n",
      " 19  recorded_by            59400 non-null  object        \n",
      " 20  scheme_management      55523 non-null  object        \n",
      " 21  scheme_name            31234 non-null  object        \n",
      " 22  permit                 56344 non-null  object        \n",
      " 23  construction_year      59400 non-null  int64         \n",
      " 24  extraction_type        59400 non-null  object        \n",
      " 25  extraction_type_group  59400 non-null  object        \n",
      " 26  extraction_type_class  59400 non-null  object        \n",
      " 27  management             59400 non-null  object        \n",
      " 28  management_group       59400 non-null  object        \n",
      " 29  payment                59400 non-null  object        \n",
      " 30  payment_type           59400 non-null  object        \n",
      " 31  water_quality          59400 non-null  object        \n",
      " 32  quality_group          59400 non-null  object        \n",
      " 33  quantity               59400 non-null  object        \n",
      " 34  quantity_group         59400 non-null  object        \n",
      " 35  source                 59400 non-null  object        \n",
      " 36  source_type            59400 non-null  object        \n",
      " 37  source_class           59400 non-null  object        \n",
      " 38  waterpoint_type        59400 non-null  object        \n",
      " 39  waterpoint_type_group  59400 non-null  object        \n",
      "dtypes: datetime64[ns](1), float64(3), int64(7), object(29)\n",
      "memory usage: 18.1+ MB\n"
     ]
    }
   ],
   "source": [
    "train_x.info()"
   ]
  },
  {
   "cell_type": "code",
   "execution_count": 7,
   "metadata": {},
   "outputs": [
    {
     "name": "stdout",
     "output_type": "stream",
     "text": [
      "<class 'pandas.core.frame.DataFrame'>\n",
      "RangeIndex: 59400 entries, 0 to 59399\n",
      "Data columns (total 2 columns):\n",
      " #   Column        Non-Null Count  Dtype \n",
      "---  ------        --------------  ----- \n",
      " 0   id            59400 non-null  int64 \n",
      " 1   status_group  59400 non-null  object\n",
      "dtypes: int64(1), object(1)\n",
      "memory usage: 928.2+ KB\n"
     ]
    }
   ],
   "source": [
    "train_y.info()"
   ]
  },
  {
   "cell_type": "code",
   "execution_count": 8,
   "metadata": {},
   "outputs": [
    {
     "name": "stdout",
     "output_type": "stream",
     "text": [
      "<class 'pandas.core.frame.DataFrame'>\n",
      "Int64Index: 59400 entries, 0 to 59399\n",
      "Data columns (total 41 columns):\n",
      " #   Column                 Non-Null Count  Dtype         \n",
      "---  ------                 --------------  -----         \n",
      " 0   id                     59400 non-null  int64         \n",
      " 1   amount_tsh             59400 non-null  float64       \n",
      " 2   date_recorded          59400 non-null  datetime64[ns]\n",
      " 3   funder                 55765 non-null  object        \n",
      " 4   gps_height             59400 non-null  int64         \n",
      " 5   installer              55745 non-null  object        \n",
      " 6   longitude              59400 non-null  float64       \n",
      " 7   latitude               59400 non-null  float64       \n",
      " 8   wpt_name               59400 non-null  object        \n",
      " 9   num_private            59400 non-null  int64         \n",
      " 10  basin                  59400 non-null  object        \n",
      " 11  subvillage             59029 non-null  object        \n",
      " 12  region                 59400 non-null  object        \n",
      " 13  region_code            59400 non-null  int64         \n",
      " 14  district_code          59400 non-null  int64         \n",
      " 15  lga                    59400 non-null  object        \n",
      " 16  ward                   59400 non-null  object        \n",
      " 17  population             59400 non-null  int64         \n",
      " 18  public_meeting         56066 non-null  object        \n",
      " 19  recorded_by            59400 non-null  object        \n",
      " 20  scheme_management      55523 non-null  object        \n",
      " 21  scheme_name            31234 non-null  object        \n",
      " 22  permit                 56344 non-null  object        \n",
      " 23  construction_year      59400 non-null  int64         \n",
      " 24  extraction_type        59400 non-null  object        \n",
      " 25  extraction_type_group  59400 non-null  object        \n",
      " 26  extraction_type_class  59400 non-null  object        \n",
      " 27  management             59400 non-null  object        \n",
      " 28  management_group       59400 non-null  object        \n",
      " 29  payment                59400 non-null  object        \n",
      " 30  payment_type           59400 non-null  object        \n",
      " 31  water_quality          59400 non-null  object        \n",
      " 32  quality_group          59400 non-null  object        \n",
      " 33  quantity               59400 non-null  object        \n",
      " 34  quantity_group         59400 non-null  object        \n",
      " 35  source                 59400 non-null  object        \n",
      " 36  source_type            59400 non-null  object        \n",
      " 37  source_class           59400 non-null  object        \n",
      " 38  waterpoint_type        59400 non-null  object        \n",
      " 39  waterpoint_type_group  59400 non-null  object        \n",
      " 40  status_group           59400 non-null  object        \n",
      "dtypes: datetime64[ns](1), float64(3), int64(7), object(30)\n",
      "memory usage: 19.0+ MB\n"
     ]
    }
   ],
   "source": [
    "train_df.info()"
   ]
  },
  {
   "cell_type": "code",
   "execution_count": 9,
   "metadata": {},
   "outputs": [
    {
     "data": {
      "text/html": [
       "<div>\n",
       "<style scoped>\n",
       "    .dataframe tbody tr th:only-of-type {\n",
       "        vertical-align: middle;\n",
       "    }\n",
       "\n",
       "    .dataframe tbody tr th {\n",
       "        vertical-align: top;\n",
       "    }\n",
       "\n",
       "    .dataframe thead th {\n",
       "        text-align: right;\n",
       "    }\n",
       "</style>\n",
       "<table border=\"1\" class=\"dataframe\">\n",
       "  <thead>\n",
       "    <tr style=\"text-align: right;\">\n",
       "      <th></th>\n",
       "      <th>id</th>\n",
       "      <th>amount_tsh</th>\n",
       "      <th>date_recorded</th>\n",
       "      <th>funder</th>\n",
       "      <th>gps_height</th>\n",
       "      <th>installer</th>\n",
       "      <th>longitude</th>\n",
       "      <th>latitude</th>\n",
       "      <th>wpt_name</th>\n",
       "      <th>num_private</th>\n",
       "      <th>basin</th>\n",
       "      <th>subvillage</th>\n",
       "      <th>region</th>\n",
       "      <th>region_code</th>\n",
       "      <th>district_code</th>\n",
       "    </tr>\n",
       "  </thead>\n",
       "  <tbody>\n",
       "    <tr>\n",
       "      <th>0</th>\n",
       "      <td>69572</td>\n",
       "      <td>6000.0</td>\n",
       "      <td>2011-03-14</td>\n",
       "      <td>Roman</td>\n",
       "      <td>1390</td>\n",
       "      <td>Roman</td>\n",
       "      <td>34.938093</td>\n",
       "      <td>-9.856322</td>\n",
       "      <td>none</td>\n",
       "      <td>0</td>\n",
       "      <td>Lake Nyasa</td>\n",
       "      <td>Mnyusi B</td>\n",
       "      <td>Iringa</td>\n",
       "      <td>11</td>\n",
       "      <td>5</td>\n",
       "    </tr>\n",
       "    <tr>\n",
       "      <th>1</th>\n",
       "      <td>8776</td>\n",
       "      <td>0.0</td>\n",
       "      <td>2013-03-06</td>\n",
       "      <td>Grumeti</td>\n",
       "      <td>1399</td>\n",
       "      <td>GRUMETI</td>\n",
       "      <td>34.698766</td>\n",
       "      <td>-2.147466</td>\n",
       "      <td>Zahanati</td>\n",
       "      <td>0</td>\n",
       "      <td>Lake Victoria</td>\n",
       "      <td>Nyamara</td>\n",
       "      <td>Mara</td>\n",
       "      <td>20</td>\n",
       "      <td>2</td>\n",
       "    </tr>\n",
       "    <tr>\n",
       "      <th>2</th>\n",
       "      <td>34310</td>\n",
       "      <td>25.0</td>\n",
       "      <td>2013-02-25</td>\n",
       "      <td>Lottery Club</td>\n",
       "      <td>686</td>\n",
       "      <td>World vision</td>\n",
       "      <td>37.460664</td>\n",
       "      <td>-3.821329</td>\n",
       "      <td>Kwa Mahundi</td>\n",
       "      <td>0</td>\n",
       "      <td>Pangani</td>\n",
       "      <td>Majengo</td>\n",
       "      <td>Manyara</td>\n",
       "      <td>21</td>\n",
       "      <td>4</td>\n",
       "    </tr>\n",
       "    <tr>\n",
       "      <th>3</th>\n",
       "      <td>67743</td>\n",
       "      <td>0.0</td>\n",
       "      <td>2013-01-28</td>\n",
       "      <td>Unicef</td>\n",
       "      <td>263</td>\n",
       "      <td>UNICEF</td>\n",
       "      <td>38.486161</td>\n",
       "      <td>-11.155298</td>\n",
       "      <td>Zahanati Ya Nanyumbu</td>\n",
       "      <td>0</td>\n",
       "      <td>Ruvuma / Southern Coast</td>\n",
       "      <td>Mahakamani</td>\n",
       "      <td>Mtwara</td>\n",
       "      <td>90</td>\n",
       "      <td>63</td>\n",
       "    </tr>\n",
       "    <tr>\n",
       "      <th>4</th>\n",
       "      <td>19728</td>\n",
       "      <td>0.0</td>\n",
       "      <td>2011-07-13</td>\n",
       "      <td>Action In A</td>\n",
       "      <td>0</td>\n",
       "      <td>Artisan</td>\n",
       "      <td>31.130847</td>\n",
       "      <td>-1.825359</td>\n",
       "      <td>Shuleni</td>\n",
       "      <td>0</td>\n",
       "      <td>Lake Victoria</td>\n",
       "      <td>Kyanyamisa</td>\n",
       "      <td>Kagera</td>\n",
       "      <td>18</td>\n",
       "      <td>1</td>\n",
       "    </tr>\n",
       "  </tbody>\n",
       "</table>\n",
       "</div>"
      ],
      "text/plain": [
       "      id  amount_tsh date_recorded        funder  gps_height     installer  \\\n",
       "0  69572      6000.0    2011-03-14         Roman        1390         Roman   \n",
       "1   8776         0.0    2013-03-06       Grumeti        1399       GRUMETI   \n",
       "2  34310        25.0    2013-02-25  Lottery Club         686  World vision   \n",
       "3  67743         0.0    2013-01-28        Unicef         263        UNICEF   \n",
       "4  19728         0.0    2011-07-13   Action In A           0       Artisan   \n",
       "\n",
       "   longitude   latitude              wpt_name  num_private  \\\n",
       "0  34.938093  -9.856322                  none            0   \n",
       "1  34.698766  -2.147466              Zahanati            0   \n",
       "2  37.460664  -3.821329           Kwa Mahundi            0   \n",
       "3  38.486161 -11.155298  Zahanati Ya Nanyumbu            0   \n",
       "4  31.130847  -1.825359               Shuleni            0   \n",
       "\n",
       "                     basin  subvillage   region  region_code  district_code  \n",
       "0               Lake Nyasa    Mnyusi B   Iringa           11              5  \n",
       "1            Lake Victoria     Nyamara     Mara           20              2  \n",
       "2                  Pangani     Majengo  Manyara           21              4  \n",
       "3  Ruvuma / Southern Coast  Mahakamani   Mtwara           90             63  \n",
       "4            Lake Victoria  Kyanyamisa   Kagera           18              1  "
      ]
     },
     "execution_count": 9,
     "metadata": {},
     "output_type": "execute_result"
    }
   ],
   "source": [
    "train_df.iloc[:5, :15]"
   ]
  },
  {
   "cell_type": "code",
   "execution_count": 10,
   "metadata": {},
   "outputs": [
    {
     "data": {
      "text/html": [
       "<div>\n",
       "<style scoped>\n",
       "    .dataframe tbody tr th:only-of-type {\n",
       "        vertical-align: middle;\n",
       "    }\n",
       "\n",
       "    .dataframe tbody tr th {\n",
       "        vertical-align: top;\n",
       "    }\n",
       "\n",
       "    .dataframe thead th {\n",
       "        text-align: right;\n",
       "    }\n",
       "</style>\n",
       "<table border=\"1\" class=\"dataframe\">\n",
       "  <thead>\n",
       "    <tr style=\"text-align: right;\">\n",
       "      <th></th>\n",
       "      <th>lga</th>\n",
       "      <th>ward</th>\n",
       "      <th>population</th>\n",
       "      <th>public_meeting</th>\n",
       "      <th>recorded_by</th>\n",
       "      <th>scheme_management</th>\n",
       "      <th>scheme_name</th>\n",
       "      <th>permit</th>\n",
       "      <th>construction_year</th>\n",
       "      <th>extraction_type</th>\n",
       "      <th>extraction_type_group</th>\n",
       "      <th>extraction_type_class</th>\n",
       "      <th>management</th>\n",
       "      <th>management_group</th>\n",
       "      <th>payment</th>\n",
       "    </tr>\n",
       "  </thead>\n",
       "  <tbody>\n",
       "    <tr>\n",
       "      <th>0</th>\n",
       "      <td>Ludewa</td>\n",
       "      <td>Mundindi</td>\n",
       "      <td>109</td>\n",
       "      <td>True</td>\n",
       "      <td>GeoData Consultants Ltd</td>\n",
       "      <td>VWC</td>\n",
       "      <td>Roman</td>\n",
       "      <td>False</td>\n",
       "      <td>1999</td>\n",
       "      <td>gravity</td>\n",
       "      <td>gravity</td>\n",
       "      <td>gravity</td>\n",
       "      <td>vwc</td>\n",
       "      <td>user-group</td>\n",
       "      <td>pay annually</td>\n",
       "    </tr>\n",
       "    <tr>\n",
       "      <th>1</th>\n",
       "      <td>Serengeti</td>\n",
       "      <td>Natta</td>\n",
       "      <td>280</td>\n",
       "      <td>NaN</td>\n",
       "      <td>GeoData Consultants Ltd</td>\n",
       "      <td>Other</td>\n",
       "      <td>NaN</td>\n",
       "      <td>True</td>\n",
       "      <td>2010</td>\n",
       "      <td>gravity</td>\n",
       "      <td>gravity</td>\n",
       "      <td>gravity</td>\n",
       "      <td>wug</td>\n",
       "      <td>user-group</td>\n",
       "      <td>never pay</td>\n",
       "    </tr>\n",
       "    <tr>\n",
       "      <th>2</th>\n",
       "      <td>Simanjiro</td>\n",
       "      <td>Ngorika</td>\n",
       "      <td>250</td>\n",
       "      <td>True</td>\n",
       "      <td>GeoData Consultants Ltd</td>\n",
       "      <td>VWC</td>\n",
       "      <td>Nyumba ya mungu pipe scheme</td>\n",
       "      <td>True</td>\n",
       "      <td>2009</td>\n",
       "      <td>gravity</td>\n",
       "      <td>gravity</td>\n",
       "      <td>gravity</td>\n",
       "      <td>vwc</td>\n",
       "      <td>user-group</td>\n",
       "      <td>pay per bucket</td>\n",
       "    </tr>\n",
       "    <tr>\n",
       "      <th>3</th>\n",
       "      <td>Nanyumbu</td>\n",
       "      <td>Nanyumbu</td>\n",
       "      <td>58</td>\n",
       "      <td>True</td>\n",
       "      <td>GeoData Consultants Ltd</td>\n",
       "      <td>VWC</td>\n",
       "      <td>NaN</td>\n",
       "      <td>True</td>\n",
       "      <td>1986</td>\n",
       "      <td>submersible</td>\n",
       "      <td>submersible</td>\n",
       "      <td>submersible</td>\n",
       "      <td>vwc</td>\n",
       "      <td>user-group</td>\n",
       "      <td>never pay</td>\n",
       "    </tr>\n",
       "    <tr>\n",
       "      <th>4</th>\n",
       "      <td>Karagwe</td>\n",
       "      <td>Nyakasimbi</td>\n",
       "      <td>0</td>\n",
       "      <td>True</td>\n",
       "      <td>GeoData Consultants Ltd</td>\n",
       "      <td>NaN</td>\n",
       "      <td>NaN</td>\n",
       "      <td>True</td>\n",
       "      <td>0</td>\n",
       "      <td>gravity</td>\n",
       "      <td>gravity</td>\n",
       "      <td>gravity</td>\n",
       "      <td>other</td>\n",
       "      <td>other</td>\n",
       "      <td>never pay</td>\n",
       "    </tr>\n",
       "  </tbody>\n",
       "</table>\n",
       "</div>"
      ],
      "text/plain": [
       "         lga        ward  population public_meeting              recorded_by  \\\n",
       "0     Ludewa    Mundindi         109           True  GeoData Consultants Ltd   \n",
       "1  Serengeti       Natta         280            NaN  GeoData Consultants Ltd   \n",
       "2  Simanjiro     Ngorika         250           True  GeoData Consultants Ltd   \n",
       "3   Nanyumbu    Nanyumbu          58           True  GeoData Consultants Ltd   \n",
       "4    Karagwe  Nyakasimbi           0           True  GeoData Consultants Ltd   \n",
       "\n",
       "  scheme_management                  scheme_name permit  construction_year  \\\n",
       "0               VWC                        Roman  False               1999   \n",
       "1             Other                          NaN   True               2010   \n",
       "2               VWC  Nyumba ya mungu pipe scheme   True               2009   \n",
       "3               VWC                          NaN   True               1986   \n",
       "4               NaN                          NaN   True                  0   \n",
       "\n",
       "  extraction_type extraction_type_group extraction_type_class management  \\\n",
       "0         gravity               gravity               gravity        vwc   \n",
       "1         gravity               gravity               gravity        wug   \n",
       "2         gravity               gravity               gravity        vwc   \n",
       "3     submersible           submersible           submersible        vwc   \n",
       "4         gravity               gravity               gravity      other   \n",
       "\n",
       "  management_group         payment  \n",
       "0       user-group    pay annually  \n",
       "1       user-group       never pay  \n",
       "2       user-group  pay per bucket  \n",
       "3       user-group       never pay  \n",
       "4            other       never pay  "
      ]
     },
     "execution_count": 10,
     "metadata": {},
     "output_type": "execute_result"
    }
   ],
   "source": [
    "train_df.iloc[:5, 15 :30]"
   ]
  },
  {
   "cell_type": "code",
   "execution_count": 11,
   "metadata": {},
   "outputs": [
    {
     "data": {
      "text/html": [
       "<div>\n",
       "<style scoped>\n",
       "    .dataframe tbody tr th:only-of-type {\n",
       "        vertical-align: middle;\n",
       "    }\n",
       "\n",
       "    .dataframe tbody tr th {\n",
       "        vertical-align: top;\n",
       "    }\n",
       "\n",
       "    .dataframe thead th {\n",
       "        text-align: right;\n",
       "    }\n",
       "</style>\n",
       "<table border=\"1\" class=\"dataframe\">\n",
       "  <thead>\n",
       "    <tr style=\"text-align: right;\">\n",
       "      <th></th>\n",
       "      <th>payment_type</th>\n",
       "      <th>water_quality</th>\n",
       "      <th>quality_group</th>\n",
       "      <th>quantity</th>\n",
       "      <th>quantity_group</th>\n",
       "      <th>source</th>\n",
       "      <th>source_type</th>\n",
       "      <th>source_class</th>\n",
       "      <th>waterpoint_type</th>\n",
       "      <th>waterpoint_type_group</th>\n",
       "      <th>status_group</th>\n",
       "    </tr>\n",
       "  </thead>\n",
       "  <tbody>\n",
       "    <tr>\n",
       "      <th>0</th>\n",
       "      <td>annually</td>\n",
       "      <td>soft</td>\n",
       "      <td>good</td>\n",
       "      <td>enough</td>\n",
       "      <td>enough</td>\n",
       "      <td>spring</td>\n",
       "      <td>spring</td>\n",
       "      <td>groundwater</td>\n",
       "      <td>communal standpipe</td>\n",
       "      <td>communal standpipe</td>\n",
       "      <td>functional</td>\n",
       "    </tr>\n",
       "    <tr>\n",
       "      <th>1</th>\n",
       "      <td>never pay</td>\n",
       "      <td>soft</td>\n",
       "      <td>good</td>\n",
       "      <td>insufficient</td>\n",
       "      <td>insufficient</td>\n",
       "      <td>rainwater harvesting</td>\n",
       "      <td>rainwater harvesting</td>\n",
       "      <td>surface</td>\n",
       "      <td>communal standpipe</td>\n",
       "      <td>communal standpipe</td>\n",
       "      <td>functional</td>\n",
       "    </tr>\n",
       "    <tr>\n",
       "      <th>2</th>\n",
       "      <td>per bucket</td>\n",
       "      <td>soft</td>\n",
       "      <td>good</td>\n",
       "      <td>enough</td>\n",
       "      <td>enough</td>\n",
       "      <td>dam</td>\n",
       "      <td>dam</td>\n",
       "      <td>surface</td>\n",
       "      <td>communal standpipe multiple</td>\n",
       "      <td>communal standpipe</td>\n",
       "      <td>functional</td>\n",
       "    </tr>\n",
       "    <tr>\n",
       "      <th>3</th>\n",
       "      <td>never pay</td>\n",
       "      <td>soft</td>\n",
       "      <td>good</td>\n",
       "      <td>dry</td>\n",
       "      <td>dry</td>\n",
       "      <td>machine dbh</td>\n",
       "      <td>borehole</td>\n",
       "      <td>groundwater</td>\n",
       "      <td>communal standpipe multiple</td>\n",
       "      <td>communal standpipe</td>\n",
       "      <td>non functional</td>\n",
       "    </tr>\n",
       "    <tr>\n",
       "      <th>4</th>\n",
       "      <td>never pay</td>\n",
       "      <td>soft</td>\n",
       "      <td>good</td>\n",
       "      <td>seasonal</td>\n",
       "      <td>seasonal</td>\n",
       "      <td>rainwater harvesting</td>\n",
       "      <td>rainwater harvesting</td>\n",
       "      <td>surface</td>\n",
       "      <td>communal standpipe</td>\n",
       "      <td>communal standpipe</td>\n",
       "      <td>functional</td>\n",
       "    </tr>\n",
       "  </tbody>\n",
       "</table>\n",
       "</div>"
      ],
      "text/plain": [
       "  payment_type water_quality quality_group      quantity quantity_group  \\\n",
       "0     annually          soft          good        enough         enough   \n",
       "1    never pay          soft          good  insufficient   insufficient   \n",
       "2   per bucket          soft          good        enough         enough   \n",
       "3    never pay          soft          good           dry            dry   \n",
       "4    never pay          soft          good      seasonal       seasonal   \n",
       "\n",
       "                 source           source_type source_class  \\\n",
       "0                spring                spring  groundwater   \n",
       "1  rainwater harvesting  rainwater harvesting      surface   \n",
       "2                   dam                   dam      surface   \n",
       "3           machine dbh              borehole  groundwater   \n",
       "4  rainwater harvesting  rainwater harvesting      surface   \n",
       "\n",
       "               waterpoint_type waterpoint_type_group    status_group  \n",
       "0           communal standpipe    communal standpipe      functional  \n",
       "1           communal standpipe    communal standpipe      functional  \n",
       "2  communal standpipe multiple    communal standpipe      functional  \n",
       "3  communal standpipe multiple    communal standpipe  non functional  \n",
       "4           communal standpipe    communal standpipe      functional  "
      ]
     },
     "execution_count": 11,
     "metadata": {},
     "output_type": "execute_result"
    }
   ],
   "source": [
    "train_df.iloc[:5, 30:]"
   ]
  },
  {
   "cell_type": "markdown",
   "metadata": {},
   "source": [
    "Since we will likely be dropping one or more columns before trying to fit models, let's create a list of all the column names and then we can remove some as we go. We can use `train_df.columns` to get an `Index` object whose values are the column names. To get a list version, use the `tolist` method."
   ]
  },
  {
   "cell_type": "code",
   "execution_count": 12,
   "metadata": {},
   "outputs": [
    {
     "data": {
      "text/plain": [
       "['id',\n",
       " 'amount_tsh',\n",
       " 'date_recorded',\n",
       " 'funder',\n",
       " 'gps_height',\n",
       " 'installer',\n",
       " 'longitude',\n",
       " 'latitude',\n",
       " 'wpt_name',\n",
       " 'num_private',\n",
       " 'basin',\n",
       " 'subvillage',\n",
       " 'region',\n",
       " 'region_code',\n",
       " 'district_code',\n",
       " 'lga',\n",
       " 'ward',\n",
       " 'population',\n",
       " 'public_meeting',\n",
       " 'recorded_by',\n",
       " 'scheme_management',\n",
       " 'scheme_name',\n",
       " 'permit',\n",
       " 'construction_year',\n",
       " 'extraction_type',\n",
       " 'extraction_type_group',\n",
       " 'extraction_type_class',\n",
       " 'management',\n",
       " 'management_group',\n",
       " 'payment',\n",
       " 'payment_type',\n",
       " 'water_quality',\n",
       " 'quality_group',\n",
       " 'quantity',\n",
       " 'quantity_group',\n",
       " 'source',\n",
       " 'source_type',\n",
       " 'source_class',\n",
       " 'waterpoint_type',\n",
       " 'waterpoint_type_group',\n",
       " 'status_group']"
      ]
     },
     "execution_count": 12,
     "metadata": {},
     "output_type": "execute_result"
    }
   ],
   "source": [
    "cols_to_keep = train_df.columns.tolist()\n",
    "cols_to_keep"
   ]
  },
  {
   "cell_type": "markdown",
   "metadata": {},
   "source": [
    "Let's drop `date_recorded` and `recorded_by` as they seem irrelevant for a predictive model. What are some different ways to remove an item from a list in Python?"
   ]
  },
  {
   "cell_type": "code",
   "execution_count": 13,
   "metadata": {},
   "outputs": [
    {
     "data": {
      "text/plain": [
       "['id',\n",
       " 'amount_tsh',\n",
       " 'funder',\n",
       " 'gps_height',\n",
       " 'installer',\n",
       " 'longitude',\n",
       " 'latitude',\n",
       " 'wpt_name',\n",
       " 'num_private',\n",
       " 'basin',\n",
       " 'subvillage',\n",
       " 'region',\n",
       " 'region_code',\n",
       " 'district_code',\n",
       " 'lga',\n",
       " 'ward',\n",
       " 'population',\n",
       " 'public_meeting',\n",
       " 'scheme_management',\n",
       " 'scheme_name',\n",
       " 'permit',\n",
       " 'construction_year',\n",
       " 'extraction_type',\n",
       " 'extraction_type_group',\n",
       " 'extraction_type_class',\n",
       " 'management',\n",
       " 'management_group',\n",
       " 'payment',\n",
       " 'payment_type',\n",
       " 'water_quality',\n",
       " 'quality_group',\n",
       " 'quantity',\n",
       " 'quantity_group',\n",
       " 'source',\n",
       " 'source_type',\n",
       " 'source_class',\n",
       " 'waterpoint_type',\n",
       " 'waterpoint_type_group',\n",
       " 'status_group']"
      ]
     },
     "execution_count": 13,
     "metadata": {},
     "output_type": "execute_result"
    }
   ],
   "source": [
    "# To remove a single element\n",
    "# cols_to_keep.remove('date_recorded')\n",
    "\n",
    "# To remove multiple elements, create a list of cols to drop and then use\n",
    "# a list comprehension to get a list of the ones to keep\n",
    "to_drop = ['date_recorded', 'recorded_by']\n",
    "\n",
    "cols_to_keep = [c for c in cols_to_keep if c not in to_drop]\n",
    "cols_to_keep"
   ]
  },
  {
   "cell_type": "markdown",
   "metadata": {},
   "source": [
    "## Automated EDA\n",
    "\n",
    "In R, we used a package called skimr to do quick, automated, basic EDA. Surely similar tools must exist for Python? A [little digging turned up several tools](https://github.com/mstaniak/autoEDA-resources). We'll look at two here - pandas-profiling and sweetviz.\n",
    "\n",
    "### pandas-profiling\n",
    "\n",
    "This has been around for a while and quickly gives you a much deeper look at pandas dataframes than you'd get from the the `info` and `describe` methods. The main site is at https://github.com/pandas-profiling/pandas-profiling.\n",
    "\n",
    "If you want to install it and try it out, I've already installed it in our `aap` conda environment. If you need to install it yourself fro msome reason, I'd suggest using conda to install it via:\n",
    "\n",
    "    conda install -c conda-forge pandas-profiling\n",
    "    \n",
    "Unfortunately, making pandas-profiling play nice with Jupyter Lab requires some additional installs. However, it works just fine with Juptyer Notebook and doing the conda install above automatically enables the necessary Jupyter widgets extensions. So, when I use pandas-profiling, I just open my notebook using the classic Jupyter Notebook interface. Just launch via the following and browse to your notebook to open.\n",
    "\n",
    "    jupyter notebook\n",
    "\n",
    "For more details regarding installation and using with Jupyter Lab, see the docs page at\n",
    "https://pandas-profiling.github.io/pandas-profiling/docs/master/rtd/pages/installation.html\n",
    "\n",
    "The cells below do the necessary imports and generates the HTML profile report. I've also included a screenshot of my results. I've also included the generated HTML report in the Downloads file.    \n"
   ]
  },
  {
   "cell_type": "markdown",
   "metadata": {},
   "source": [
    "![pandas profiling output](pandas_profiling_output.PNG)"
   ]
  },
  {
   "cell_type": "code",
   "execution_count": 18,
   "metadata": {},
   "outputs": [],
   "source": [
    "from pandas_profiling import ProfileReport"
   ]
  },
  {
   "cell_type": "code",
   "execution_count": 19,
   "metadata": {},
   "outputs": [],
   "source": [
    "profile = ProfileReport(train_df, title=\"Pandas Profiling Report\")"
   ]
  },
  {
   "cell_type": "code",
   "execution_count": 20,
   "metadata": {
    "scrolled": true
   },
   "outputs": [
    {
     "data": {
      "application/vnd.jupyter.widget-view+json": {
       "model_id": "e92a04825066439d8b6447c96e7056d4",
       "version_major": 2,
       "version_minor": 0
      },
      "text/plain": [
       "Summarize dataset:   0%|          | 0/54 [00:00<?, ?it/s]"
      ]
     },
     "metadata": {},
     "output_type": "display_data"
    },
    {
     "data": {
      "application/vnd.jupyter.widget-view+json": {
       "model_id": "0a8f8a773bef40e1830a3bee6223f27b",
       "version_major": 2,
       "version_minor": 0
      },
      "text/plain": [
       "Generate report structure:   0%|          | 0/1 [00:00<?, ?it/s]"
      ]
     },
     "metadata": {},
     "output_type": "display_data"
    },
    {
     "data": {
      "application/vnd.jupyter.widget-view+json": {
       "model_id": "5757f498c98248ab9167a5acbea3a337",
       "version_major": 2,
       "version_minor": 0
      },
      "text/plain": [
       "Render HTML:   0%|          | 0/1 [00:00<?, ?it/s]"
      ]
     },
     "metadata": {},
     "output_type": "display_data"
    },
    {
     "data": {
      "application/vnd.jupyter.widget-view+json": {
       "model_id": "05d5a373304d4b1ead3fa72a307eb6db",
       "version_major": 2,
       "version_minor": 0
      },
      "text/plain": [
       "Export report to file:   0%|          | 0/1 [00:00<?, ?it/s]"
      ]
     },
     "metadata": {},
     "output_type": "display_data"
    }
   ],
   "source": [
    "profile.to_file(\"output/pandas_profiling_report.html\")"
   ]
  },
  {
   "cell_type": "markdown",
   "metadata": {},
   "source": [
    "### Sweetviz\n",
    "\n",
    "Another impressive automated EDA packack is [Sweetviz](https://github.com/fbdesignpro/sweetviz. Like pandas-profiling, it creates an interactive HTML based report. It includes some features aimed at predictive modeling such as explicit analysis of the target variable and advanced correlation analysis. Some relevant references on Python tools for correlation analysis include:\n",
    "\n",
    "* https://towardsdatascience.com/the-search-for-categorical-correlation-a1cf7f1888c9\n",
    "* https://towardsdatascience.com/better-heatmaps-and-correlation-matrix-plots-in-python-41445d0f2bec\n",
    "\n",
    "To install sweetviz:\n",
    "\n",
    "    pip install sweetviz\n",
    "\n"
   ]
  },
  {
   "cell_type": "code",
   "execution_count": 21,
   "metadata": {},
   "outputs": [],
   "source": [
    "import sweetviz"
   ]
  },
  {
   "cell_type": "code",
   "execution_count": 22,
   "metadata": {},
   "outputs": [
    {
     "data": {
      "application/vnd.jupyter.widget-view+json": {
       "model_id": "63214d05c0d44496865f90b3be08423b",
       "version_major": 2,
       "version_minor": 0
      },
      "text/plain": [
       "                                             |                                                                …"
      ]
     },
     "metadata": {},
     "output_type": "display_data"
    }
   ],
   "source": [
    "report = sweetviz.analyze(train_df)"
   ]
  },
  {
   "cell_type": "code",
   "execution_count": 24,
   "metadata": {},
   "outputs": [
    {
     "name": "stdout",
     "output_type": "stream",
     "text": [
      "Report output/sweetviz_report.html was generated! NOTEBOOK/COLAB USERS: the web browser MAY not pop up, regardless, the report IS saved in your notebook/colab files.\n"
     ]
    }
   ],
   "source": [
    "report.show_html(\"output/sweetviz_report.html\")"
   ]
  },
  {
   "cell_type": "markdown",
   "metadata": {},
   "source": [
    "From the data dictionary and the dataframe snooping above, a few observations:\n",
    "\n",
    "* the target variable, `status_group`, has three levels\n",
    "* many fields are non-numeric\n",
    "* several fields have a large proportion of zero values - what is the meaning (missing or zero)?\n",
    "* some of the numeric fields are actually categorical data (`region_code` and `district_code`)\n",
    "* some of the fields seem to be related in a hierarchical fashion (`extraction_type`, `extraction_type_group`, `extraction_type_class`)\n",
    "* Seems like we could eliminate a number of variables before model building."
   ]
  },
  {
   "cell_type": "markdown",
   "metadata": {},
   "source": [
    "### Target variable - status_group\n",
    "\n",
    "While this information is available in the automated EDA reports, just demonstrating some basic pandas techniques."
   ]
  },
  {
   "cell_type": "code",
   "execution_count": 6,
   "metadata": {},
   "outputs": [
    {
     "data": {
      "text/plain": [
       "status_group\n",
       "functional                 32259\n",
       "functional needs repair     4317\n",
       "non functional             22824\n",
       "dtype: int64"
      ]
     },
     "execution_count": 6,
     "metadata": {},
     "output_type": "execute_result"
    }
   ],
   "source": [
    "train_df.groupby(['status_group']).size()"
   ]
  },
  {
   "cell_type": "code",
   "execution_count": 7,
   "metadata": {},
   "outputs": [
    {
     "data": {
      "text/plain": [
       "functional                 0.543081\n",
       "non functional             0.384242\n",
       "functional needs repair    0.072677\n",
       "Name: status_group, dtype: float64"
      ]
     },
     "execution_count": 7,
     "metadata": {},
     "output_type": "execute_result"
    }
   ],
   "source": [
    "train_df['status_group'].value_counts(normalize=True)"
   ]
  },
  {
   "cell_type": "markdown",
   "metadata": {},
   "source": [
    "### Exploring the numeric variables\n",
    "Sometimes it's useful to be able to select columns by data type. For example to get a list of numeric columns:"
   ]
  },
  {
   "cell_type": "code",
   "execution_count": 8,
   "metadata": {},
   "outputs": [
    {
     "data": {
      "text/plain": [
       "['id',\n",
       " 'amount_tsh',\n",
       " 'gps_height',\n",
       " 'longitude',\n",
       " 'latitude',\n",
       " 'num_private',\n",
       " 'region_code',\n",
       " 'district_code',\n",
       " 'population',\n",
       " 'construction_year']"
      ]
     },
     "execution_count": 8,
     "metadata": {},
     "output_type": "execute_result"
    }
   ],
   "source": [
    "train_df.select_dtypes(include=np.number).columns.tolist()"
   ]
  },
  {
   "cell_type": "markdown",
   "metadata": {},
   "source": [
    "The `id` field is just an identifier and won't be used in any models but we'll leave it in the dataframe for now.\n",
    "\n",
    "The `amount_tsh` field has about 70% zeroes and not exactly sure what this means. \n",
    "\n",
    "The `gps_height` field has about 30% zeroes. Is this really sea level or missing data?\n",
    "\n",
    "The `latitude` and `longitude` fields are fully populated. Each degree is about 70 miles.\n",
    "\n",
    "The `num_private` has no definition posted and is 99% zeroes. For the non-zeroes, let's see how the target variable is distributed. Note the use of the `value_counts` function to avoid having to do a group by and using `normalize=True` to get percentages instead of counts. See https://pandas.pydata.org/pandas-docs/stable/reference/api/pandas.DataFrame.value_counts.html."
   ]
  },
  {
   "cell_type": "code",
   "execution_count": 9,
   "metadata": {},
   "outputs": [
    {
     "data": {
      "text/plain": [
       "functional                 0.608983\n",
       "non functional             0.327609\n",
       "functional needs repair    0.063408\n",
       "Name: status_group, dtype: float64"
      ]
     },
     "execution_count": 9,
     "metadata": {},
     "output_type": "execute_result"
    }
   ],
   "source": [
    "train_df[train_df.num_private > 0]['status_group'].value_counts(normalize=True)"
   ]
  },
  {
   "cell_type": "markdown",
   "metadata": {},
   "source": [
    "Higher percentage of functional wells in the subset of data having `num_private > 0`. Let's keep it around."
   ]
  },
  {
   "cell_type": "markdown",
   "metadata": {},
   "source": [
    "Both `region_code` and `district_code` are categorical. Let's convert their type."
   ]
  },
  {
   "cell_type": "code",
   "execution_count": 9,
   "metadata": {},
   "outputs": [],
   "source": [
    "train_df[\"region_code\"] = train_df[\"region_code\"].astype(\"category\")\n",
    "train_df[\"district_code\"] = train_df[\"district_code\"].astype(\"category\")"
   ]
  },
  {
   "cell_type": "markdown",
   "metadata": {},
   "source": [
    "The `population` field has 36% zeroes. This is defined as the population around the well. Not sure exactly what the 0's mean."
   ]
  },
  {
   "cell_type": "code",
   "execution_count": 10,
   "metadata": {},
   "outputs": [
    {
     "data": {
      "text/plain": [
       "construction_year  status_group           \n",
       "0                  functional                 0.509682\n",
       "                   non functional             0.403931\n",
       "                   functional needs repair    0.086388\n",
       "1960               non functional             0.705882\n",
       "                   functional                 0.235294\n",
       "                                                ...   \n",
       "2012               non functional             0.283210\n",
       "                   functional needs repair    0.047048\n",
       "2013               functional                 0.579545\n",
       "                   non functional             0.414773\n",
       "                   functional needs repair    0.005682\n",
       "Name: status_group, Length: 164, dtype: float64"
      ]
     },
     "execution_count": 10,
     "metadata": {},
     "output_type": "execute_result"
    }
   ],
   "source": [
    "train_df.groupby('construction_year')['status_group'].value_counts(normalize=True)"
   ]
  },
  {
   "cell_type": "code",
   "execution_count": 11,
   "metadata": {},
   "outputs": [
    {
     "data": {
      "text/html": [
       "<div>\n",
       "<style scoped>\n",
       "    .dataframe tbody tr th:only-of-type {\n",
       "        vertical-align: middle;\n",
       "    }\n",
       "\n",
       "    .dataframe tbody tr th {\n",
       "        vertical-align: top;\n",
       "    }\n",
       "\n",
       "    .dataframe thead th {\n",
       "        text-align: right;\n",
       "    }\n",
       "</style>\n",
       "<table border=\"1\" class=\"dataframe\">\n",
       "  <thead>\n",
       "    <tr style=\"text-align: right;\">\n",
       "      <th>status_group</th>\n",
       "      <th>functional</th>\n",
       "      <th>functional needs repair</th>\n",
       "      <th>non functional</th>\n",
       "    </tr>\n",
       "    <tr>\n",
       "      <th>construction_year</th>\n",
       "      <th></th>\n",
       "      <th></th>\n",
       "      <th></th>\n",
       "    </tr>\n",
       "  </thead>\n",
       "  <tbody>\n",
       "    <tr>\n",
       "      <th>0</th>\n",
       "      <td>0.509682</td>\n",
       "      <td>0.086388</td>\n",
       "      <td>0.403931</td>\n",
       "    </tr>\n",
       "    <tr>\n",
       "      <th>1960</th>\n",
       "      <td>0.235294</td>\n",
       "      <td>0.058824</td>\n",
       "      <td>0.705882</td>\n",
       "    </tr>\n",
       "    <tr>\n",
       "      <th>1961</th>\n",
       "      <td>0.095238</td>\n",
       "      <td>0.142857</td>\n",
       "      <td>0.761905</td>\n",
       "    </tr>\n",
       "    <tr>\n",
       "      <th>1962</th>\n",
       "      <td>0.233333</td>\n",
       "      <td>0.033333</td>\n",
       "      <td>0.733333</td>\n",
       "    </tr>\n",
       "    <tr>\n",
       "      <th>1963</th>\n",
       "      <td>0.364706</td>\n",
       "      <td>0.070588</td>\n",
       "      <td>0.564706</td>\n",
       "    </tr>\n",
       "    <tr>\n",
       "      <th>1964</th>\n",
       "      <td>0.175000</td>\n",
       "      <td>0.025000</td>\n",
       "      <td>0.800000</td>\n",
       "    </tr>\n",
       "    <tr>\n",
       "      <th>1965</th>\n",
       "      <td>0.578947</td>\n",
       "      <td>0.052632</td>\n",
       "      <td>0.368421</td>\n",
       "    </tr>\n",
       "    <tr>\n",
       "      <th>1966</th>\n",
       "      <td>0.352941</td>\n",
       "      <td>0.000000</td>\n",
       "      <td>0.647059</td>\n",
       "    </tr>\n",
       "    <tr>\n",
       "      <th>1967</th>\n",
       "      <td>0.352273</td>\n",
       "      <td>0.193182</td>\n",
       "      <td>0.454545</td>\n",
       "    </tr>\n",
       "    <tr>\n",
       "      <th>1968</th>\n",
       "      <td>0.285714</td>\n",
       "      <td>0.051948</td>\n",
       "      <td>0.662338</td>\n",
       "    </tr>\n",
       "    <tr>\n",
       "      <th>1969</th>\n",
       "      <td>0.254237</td>\n",
       "      <td>0.050847</td>\n",
       "      <td>0.694915</td>\n",
       "    </tr>\n",
       "    <tr>\n",
       "      <th>1970</th>\n",
       "      <td>0.240876</td>\n",
       "      <td>0.036496</td>\n",
       "      <td>0.722628</td>\n",
       "    </tr>\n",
       "    <tr>\n",
       "      <th>1971</th>\n",
       "      <td>0.565517</td>\n",
       "      <td>0.041379</td>\n",
       "      <td>0.393103</td>\n",
       "    </tr>\n",
       "    <tr>\n",
       "      <th>1972</th>\n",
       "      <td>0.251412</td>\n",
       "      <td>0.096045</td>\n",
       "      <td>0.652542</td>\n",
       "    </tr>\n",
       "    <tr>\n",
       "      <th>1973</th>\n",
       "      <td>0.298913</td>\n",
       "      <td>0.043478</td>\n",
       "      <td>0.657609</td>\n",
       "    </tr>\n",
       "    <tr>\n",
       "      <th>1974</th>\n",
       "      <td>0.346154</td>\n",
       "      <td>0.057692</td>\n",
       "      <td>0.596154</td>\n",
       "    </tr>\n",
       "    <tr>\n",
       "      <th>1975</th>\n",
       "      <td>0.329519</td>\n",
       "      <td>0.093822</td>\n",
       "      <td>0.576659</td>\n",
       "    </tr>\n",
       "    <tr>\n",
       "      <th>1976</th>\n",
       "      <td>0.205314</td>\n",
       "      <td>0.125604</td>\n",
       "      <td>0.669082</td>\n",
       "    </tr>\n",
       "    <tr>\n",
       "      <th>1977</th>\n",
       "      <td>0.306931</td>\n",
       "      <td>0.049505</td>\n",
       "      <td>0.643564</td>\n",
       "    </tr>\n",
       "    <tr>\n",
       "      <th>1978</th>\n",
       "      <td>0.410800</td>\n",
       "      <td>0.093539</td>\n",
       "      <td>0.495661</td>\n",
       "    </tr>\n",
       "    <tr>\n",
       "      <th>1979</th>\n",
       "      <td>0.213542</td>\n",
       "      <td>0.062500</td>\n",
       "      <td>0.723958</td>\n",
       "    </tr>\n",
       "    <tr>\n",
       "      <th>1980</th>\n",
       "      <td>0.318126</td>\n",
       "      <td>0.073983</td>\n",
       "      <td>0.607891</td>\n",
       "    </tr>\n",
       "    <tr>\n",
       "      <th>1981</th>\n",
       "      <td>0.357143</td>\n",
       "      <td>0.046218</td>\n",
       "      <td>0.596639</td>\n",
       "    </tr>\n",
       "    <tr>\n",
       "      <th>1982</th>\n",
       "      <td>0.317204</td>\n",
       "      <td>0.072581</td>\n",
       "      <td>0.610215</td>\n",
       "    </tr>\n",
       "    <tr>\n",
       "      <th>1983</th>\n",
       "      <td>0.383197</td>\n",
       "      <td>0.043033</td>\n",
       "      <td>0.573770</td>\n",
       "    </tr>\n",
       "    <tr>\n",
       "      <th>1984</th>\n",
       "      <td>0.468549</td>\n",
       "      <td>0.084724</td>\n",
       "      <td>0.446727</td>\n",
       "    </tr>\n",
       "    <tr>\n",
       "      <th>1985</th>\n",
       "      <td>0.342857</td>\n",
       "      <td>0.088889</td>\n",
       "      <td>0.568254</td>\n",
       "    </tr>\n",
       "    <tr>\n",
       "      <th>1986</th>\n",
       "      <td>0.488479</td>\n",
       "      <td>0.078341</td>\n",
       "      <td>0.433180</td>\n",
       "    </tr>\n",
       "    <tr>\n",
       "      <th>1987</th>\n",
       "      <td>0.473510</td>\n",
       "      <td>0.122517</td>\n",
       "      <td>0.403974</td>\n",
       "    </tr>\n",
       "    <tr>\n",
       "      <th>1988</th>\n",
       "      <td>0.470250</td>\n",
       "      <td>0.080614</td>\n",
       "      <td>0.449136</td>\n",
       "    </tr>\n",
       "    <tr>\n",
       "      <th>1989</th>\n",
       "      <td>0.522152</td>\n",
       "      <td>0.044304</td>\n",
       "      <td>0.433544</td>\n",
       "    </tr>\n",
       "    <tr>\n",
       "      <th>1990</th>\n",
       "      <td>0.488470</td>\n",
       "      <td>0.061845</td>\n",
       "      <td>0.449686</td>\n",
       "    </tr>\n",
       "    <tr>\n",
       "      <th>1991</th>\n",
       "      <td>0.435185</td>\n",
       "      <td>0.052469</td>\n",
       "      <td>0.512346</td>\n",
       "    </tr>\n",
       "    <tr>\n",
       "      <th>1992</th>\n",
       "      <td>0.564063</td>\n",
       "      <td>0.064062</td>\n",
       "      <td>0.371875</td>\n",
       "    </tr>\n",
       "    <tr>\n",
       "      <th>1993</th>\n",
       "      <td>0.468750</td>\n",
       "      <td>0.055921</td>\n",
       "      <td>0.475329</td>\n",
       "    </tr>\n",
       "    <tr>\n",
       "      <th>1994</th>\n",
       "      <td>0.514905</td>\n",
       "      <td>0.058266</td>\n",
       "      <td>0.426829</td>\n",
       "    </tr>\n",
       "    <tr>\n",
       "      <th>1995</th>\n",
       "      <td>0.584813</td>\n",
       "      <td>0.073964</td>\n",
       "      <td>0.341223</td>\n",
       "    </tr>\n",
       "    <tr>\n",
       "      <th>1996</th>\n",
       "      <td>0.475956</td>\n",
       "      <td>0.059186</td>\n",
       "      <td>0.464858</td>\n",
       "    </tr>\n",
       "    <tr>\n",
       "      <th>1997</th>\n",
       "      <td>0.451863</td>\n",
       "      <td>0.104037</td>\n",
       "      <td>0.444099</td>\n",
       "    </tr>\n",
       "    <tr>\n",
       "      <th>1998</th>\n",
       "      <td>0.561077</td>\n",
       "      <td>0.090062</td>\n",
       "      <td>0.348861</td>\n",
       "    </tr>\n",
       "    <tr>\n",
       "      <th>1999</th>\n",
       "      <td>0.708887</td>\n",
       "      <td>0.048008</td>\n",
       "      <td>0.243105</td>\n",
       "    </tr>\n",
       "    <tr>\n",
       "      <th>2000</th>\n",
       "      <td>0.611669</td>\n",
       "      <td>0.065041</td>\n",
       "      <td>0.323290</td>\n",
       "    </tr>\n",
       "    <tr>\n",
       "      <th>2001</th>\n",
       "      <td>0.612963</td>\n",
       "      <td>0.068519</td>\n",
       "      <td>0.318519</td>\n",
       "    </tr>\n",
       "    <tr>\n",
       "      <th>2002</th>\n",
       "      <td>0.643721</td>\n",
       "      <td>0.053953</td>\n",
       "      <td>0.302326</td>\n",
       "    </tr>\n",
       "    <tr>\n",
       "      <th>2003</th>\n",
       "      <td>0.643857</td>\n",
       "      <td>0.055210</td>\n",
       "      <td>0.300933</td>\n",
       "    </tr>\n",
       "    <tr>\n",
       "      <th>2004</th>\n",
       "      <td>0.626892</td>\n",
       "      <td>0.062333</td>\n",
       "      <td>0.310775</td>\n",
       "    </tr>\n",
       "    <tr>\n",
       "      <th>2005</th>\n",
       "      <td>0.571711</td>\n",
       "      <td>0.088032</td>\n",
       "      <td>0.340257</td>\n",
       "    </tr>\n",
       "    <tr>\n",
       "      <th>2006</th>\n",
       "      <td>0.600272</td>\n",
       "      <td>0.091774</td>\n",
       "      <td>0.307954</td>\n",
       "    </tr>\n",
       "    <tr>\n",
       "      <th>2007</th>\n",
       "      <td>0.681159</td>\n",
       "      <td>0.073094</td>\n",
       "      <td>0.245747</td>\n",
       "    </tr>\n",
       "    <tr>\n",
       "      <th>2008</th>\n",
       "      <td>0.703789</td>\n",
       "      <td>0.048603</td>\n",
       "      <td>0.247608</td>\n",
       "    </tr>\n",
       "    <tr>\n",
       "      <th>2009</th>\n",
       "      <td>0.700355</td>\n",
       "      <td>0.054481</td>\n",
       "      <td>0.245164</td>\n",
       "    </tr>\n",
       "    <tr>\n",
       "      <th>2010</th>\n",
       "      <td>0.764839</td>\n",
       "      <td>0.034026</td>\n",
       "      <td>0.201134</td>\n",
       "    </tr>\n",
       "    <tr>\n",
       "      <th>2011</th>\n",
       "      <td>0.750796</td>\n",
       "      <td>0.062102</td>\n",
       "      <td>0.187102</td>\n",
       "    </tr>\n",
       "    <tr>\n",
       "      <th>2012</th>\n",
       "      <td>0.669742</td>\n",
       "      <td>0.047048</td>\n",
       "      <td>0.283210</td>\n",
       "    </tr>\n",
       "    <tr>\n",
       "      <th>2013</th>\n",
       "      <td>0.579545</td>\n",
       "      <td>0.005682</td>\n",
       "      <td>0.414773</td>\n",
       "    </tr>\n",
       "  </tbody>\n",
       "</table>\n",
       "</div>"
      ],
      "text/plain": [
       "status_group       functional  functional needs repair  non functional\n",
       "construction_year                                                     \n",
       "0                    0.509682                 0.086388        0.403931\n",
       "1960                 0.235294                 0.058824        0.705882\n",
       "1961                 0.095238                 0.142857        0.761905\n",
       "1962                 0.233333                 0.033333        0.733333\n",
       "1963                 0.364706                 0.070588        0.564706\n",
       "1964                 0.175000                 0.025000        0.800000\n",
       "1965                 0.578947                 0.052632        0.368421\n",
       "1966                 0.352941                 0.000000        0.647059\n",
       "1967                 0.352273                 0.193182        0.454545\n",
       "1968                 0.285714                 0.051948        0.662338\n",
       "1969                 0.254237                 0.050847        0.694915\n",
       "1970                 0.240876                 0.036496        0.722628\n",
       "1971                 0.565517                 0.041379        0.393103\n",
       "1972                 0.251412                 0.096045        0.652542\n",
       "1973                 0.298913                 0.043478        0.657609\n",
       "1974                 0.346154                 0.057692        0.596154\n",
       "1975                 0.329519                 0.093822        0.576659\n",
       "1976                 0.205314                 0.125604        0.669082\n",
       "1977                 0.306931                 0.049505        0.643564\n",
       "1978                 0.410800                 0.093539        0.495661\n",
       "1979                 0.213542                 0.062500        0.723958\n",
       "1980                 0.318126                 0.073983        0.607891\n",
       "1981                 0.357143                 0.046218        0.596639\n",
       "1982                 0.317204                 0.072581        0.610215\n",
       "1983                 0.383197                 0.043033        0.573770\n",
       "1984                 0.468549                 0.084724        0.446727\n",
       "1985                 0.342857                 0.088889        0.568254\n",
       "1986                 0.488479                 0.078341        0.433180\n",
       "1987                 0.473510                 0.122517        0.403974\n",
       "1988                 0.470250                 0.080614        0.449136\n",
       "1989                 0.522152                 0.044304        0.433544\n",
       "1990                 0.488470                 0.061845        0.449686\n",
       "1991                 0.435185                 0.052469        0.512346\n",
       "1992                 0.564063                 0.064062        0.371875\n",
       "1993                 0.468750                 0.055921        0.475329\n",
       "1994                 0.514905                 0.058266        0.426829\n",
       "1995                 0.584813                 0.073964        0.341223\n",
       "1996                 0.475956                 0.059186        0.464858\n",
       "1997                 0.451863                 0.104037        0.444099\n",
       "1998                 0.561077                 0.090062        0.348861\n",
       "1999                 0.708887                 0.048008        0.243105\n",
       "2000                 0.611669                 0.065041        0.323290\n",
       "2001                 0.612963                 0.068519        0.318519\n",
       "2002                 0.643721                 0.053953        0.302326\n",
       "2003                 0.643857                 0.055210        0.300933\n",
       "2004                 0.626892                 0.062333        0.310775\n",
       "2005                 0.571711                 0.088032        0.340257\n",
       "2006                 0.600272                 0.091774        0.307954\n",
       "2007                 0.681159                 0.073094        0.245747\n",
       "2008                 0.703789                 0.048603        0.247608\n",
       "2009                 0.700355                 0.054481        0.245164\n",
       "2010                 0.764839                 0.034026        0.201134\n",
       "2011                 0.750796                 0.062102        0.187102\n",
       "2012                 0.669742                 0.047048        0.283210\n",
       "2013                 0.579545                 0.005682        0.414773"
      ]
     },
     "execution_count": 11,
     "metadata": {},
     "output_type": "execute_result"
    }
   ],
   "source": [
    "status_by_year = pd.crosstab(train_df['construction_year'], train_df['status_group'], normalize='index')\n",
    "status_by_year"
   ]
  },
  {
   "cell_type": "markdown",
   "metadata": {},
   "source": [
    "Not surprisingly, looks like newer wells are more likely to be functioning."
   ]
  },
  {
   "cell_type": "markdown",
   "metadata": {},
   "source": [
    "Can use pandas `plot` function to quickly generate plot for this dataframe. It's just using matplotlib under the hood."
   ]
  },
  {
   "cell_type": "code",
   "execution_count": 13,
   "metadata": {},
   "outputs": [
    {
     "data": {
      "text/plain": [
       "<matplotlib.axes._subplots.AxesSubplot at 0x21b3f977188>"
      ]
     },
     "execution_count": 13,
     "metadata": {},
     "output_type": "execute_result"
    },
    {
     "data": {
      "image/png": "[encoded data removed]",
      "text/plain": [
       "<Figure size 432x288 with 1 Axes>"
      ]
     },
     "metadata": {
      "needs_background": "light"
     },
     "output_type": "display_data"
    }
   ],
   "source": [
    "status_by_year[status_by_year.index > 0].plot(kind='line')"
   ]
  },
  {
   "cell_type": "markdown",
   "metadata": {},
   "source": [
    "### Exploring the categorical variables\n",
    "Categorical variables provide challenges in building predictive models in sklearn. For example, when we built regression models in R, we simply included categorical variables in our regression formulas and R automatically created dummy (binary indicator) variables. In sklearn, we have to do this work ourself. Similarly, the implementation of random forests in the R randomForest package can handle categorical variables with no preprocessing necessary.\n",
    "Thankfully, sklearn has a number of tools to help you properly encode such variables for different models and algorithms. We will explore this in more detail in the next notebook when we build models. For now, check out the following two blog posts that address this topic.\n",
    "\n",
    "* https://pbpython.com/categorical-encoding.html from Practical Business Python\n",
    "* http://www.willmcginnis.com/2015/11/29/beyond-one-hot-an-exploration-of-categorical-variables/\n",
    "\n"
   ]
  },
  {
   "cell_type": "markdown",
   "metadata": {},
   "source": [
    "Review the EDA reports to look for:\n",
    "\n",
    "* obvious variables to drop due to things like little to no variance in the variable values.\n",
    "* variables that might be candidates for lumping due to huge numbers of unique values\n",
    "* categorical variables that are related to each other - e.g. hierarchical relationships such as `extraction_type`, `extraction_type_group`, `extraction_type_class`"
   ]
  },
  {
   "cell_type": "markdown",
   "metadata": {},
   "source": [
    "<div class=\"alert alert-block alert-info\">\n",
    "<b>SIDEBAR:</b> How does one do dplyr type chaining with pandas?\n",
    "</div>"
   ]
  },
  {
   "cell_type": "markdown",
   "metadata": {},
   "source": [
    "When exploring categorical data with pandas, sometimes I find myself longing for the R package, dplyr. For example how to do this dplyr type analysis in pandas?\n",
    "\n",
    "    train %>% \n",
    "      group_by(payment) %>% \n",
    "      summarize(\n",
    "        num_installs = n(),\n",
    "        pct_functional = sum(status_group == 'functional') / num_installs\n",
    "      ) %>% \n",
    "      filter(num_installs > 100) %>%\n",
    "      arrange(desc(pct_functional))\n",
    "\n",
    "To get:\n",
    "\n",
    "    payment  num_installs   pct_functional\n",
    "    pay annually\t3642\t0.7523339\t\n",
    "    pay per bucket\t8985\t0.6777963\t\n",
    "    ...\n",
    "    \n",
    "More generally, how to visualize the breakdown of the categorical target variable within levels of some categorical predictor? Is it just a heat map? Or entropy or gini by level in comparison (perhaps weighted by number of observations in the level) to entropy/gini of target?\n",
    "\n",
    "Down the rabbit hole with the following reddit post. Good stuff found in there and a generally useful discussion. More work going on in adding tidyverse approaches to pandas Python.\n",
    "\n",
    "* https://www.reddit.com/r/datascience/comments/ltkt9s/r_is_far_superior_to_python_for_data_manipulation/\n",
    "* https://tomaugspurger.github.io/modern-1-intro\n",
    "* https://tomaugspurger.github.io/method-chaining - this is really good\n",
    "* https://stmorse.github.io/journal/tidyverse-style-pandas.html - and so is this\n",
    "* [R to Python data wrangling snippets](https://gist.github.com/conormm/fd8b1980c28dd21cfaf6975c86c74d07)\n",
    "* https://www.tidymodels.org/\n",
    "* https://pyjanitor.readthedocs.io/\n",
    "* https://towardsdatascience.com/the-unreasonable-effectiveness-of-method-chaining-in-pandas-15c2109e3c69\n",
    "* https://github.com/machow/siuba"
   ]
  },
  {
   "cell_type": "markdown",
   "metadata": {},
   "source": [
    "<div class=\"alert alert-block alert-info\">\n",
    "<b>END OF SIDEBAR</b> Be careful before checking out the reddit discussion above as it can become a time sink (though an interesting and useful one).\n",
    "</div>"
   ]
  },
  {
   "cell_type": "markdown",
   "metadata": {},
   "source": [
    "### Geographic categorical variables\n",
    "\n",
    "There are several categorical variables that are geographic in nature.\n",
    "\n",
    "* `wpt_name` - waterpoint name (if exists)\n",
    "* `basin` - Geographic water basin\n",
    "* `subvillage` - Geographic location\n",
    "* `region` - Geographic location\n",
    "* `region_code` - Geographic location (coded)\n",
    "* `district_code` - Geographic location (coded)\n",
    "* `lga` - Geographic location\n",
    "* `ward` - Geographic location"
   ]
  },
  {
   "cell_type": "code",
   "execution_count": 25,
   "metadata": {},
   "outputs": [
    {
     "data": {
      "text/html": [
       "<div>\n",
       "<style scoped>\n",
       "    .dataframe tbody tr th:only-of-type {\n",
       "        vertical-align: middle;\n",
       "    }\n",
       "\n",
       "    .dataframe tbody tr th {\n",
       "        vertical-align: top;\n",
       "    }\n",
       "\n",
       "    .dataframe thead th {\n",
       "        text-align: right;\n",
       "    }\n",
       "</style>\n",
       "<table border=\"1\" class=\"dataframe\">\n",
       "  <thead>\n",
       "    <tr style=\"text-align: right;\">\n",
       "      <th></th>\n",
       "      <th>region_code</th>\n",
       "      <th>district_code</th>\n",
       "    </tr>\n",
       "  </thead>\n",
       "  <tbody>\n",
       "    <tr>\n",
       "      <th>count</th>\n",
       "      <td>59400.000000</td>\n",
       "      <td>59400.000000</td>\n",
       "    </tr>\n",
       "    <tr>\n",
       "      <th>mean</th>\n",
       "      <td>15.297003</td>\n",
       "      <td>5.629747</td>\n",
       "    </tr>\n",
       "    <tr>\n",
       "      <th>std</th>\n",
       "      <td>17.587406</td>\n",
       "      <td>9.633649</td>\n",
       "    </tr>\n",
       "    <tr>\n",
       "      <th>min</th>\n",
       "      <td>1.000000</td>\n",
       "      <td>0.000000</td>\n",
       "    </tr>\n",
       "    <tr>\n",
       "      <th>25%</th>\n",
       "      <td>5.000000</td>\n",
       "      <td>2.000000</td>\n",
       "    </tr>\n",
       "    <tr>\n",
       "      <th>50%</th>\n",
       "      <td>12.000000</td>\n",
       "      <td>3.000000</td>\n",
       "    </tr>\n",
       "    <tr>\n",
       "      <th>75%</th>\n",
       "      <td>17.000000</td>\n",
       "      <td>5.000000</td>\n",
       "    </tr>\n",
       "    <tr>\n",
       "      <th>max</th>\n",
       "      <td>99.000000</td>\n",
       "      <td>80.000000</td>\n",
       "    </tr>\n",
       "  </tbody>\n",
       "</table>\n",
       "</div>"
      ],
      "text/plain": [
       "        region_code  district_code\n",
       "count  59400.000000   59400.000000\n",
       "mean      15.297003       5.629747\n",
       "std       17.587406       9.633649\n",
       "min        1.000000       0.000000\n",
       "25%        5.000000       2.000000\n",
       "50%       12.000000       3.000000\n",
       "75%       17.000000       5.000000\n",
       "max       99.000000      80.000000"
      ]
     },
     "execution_count": 25,
     "metadata": {},
     "output_type": "execute_result"
    }
   ],
   "source": [
    "geo_cols = ['wpt_name', 'basin', 'subvillage', 'region', 'region_code', 'district_code', 'lga', 'ward']\n",
    "\n",
    "train_df.loc[:, geo_cols].describe()"
   ]
  },
  {
   "cell_type": "markdown",
   "metadata": {},
   "source": [
    "Let's drop `region_code` and just use `region`. Let's also remove `wpt_name`, `subvillage` and `ward` as too detailed."
   ]
  },
  {
   "cell_type": "code",
   "execution_count": 26,
   "metadata": {},
   "outputs": [],
   "source": [
    "cols_to_keep.remove('region_code')\n",
    "cols_to_keep.remove('wpt_name')\n",
    "cols_to_keep.remove('subvillage')\n",
    "cols_to_keep.remove('ward')"
   ]
  },
  {
   "cell_type": "code",
   "execution_count": 27,
   "metadata": {},
   "outputs": [
    {
     "name": "stdout",
     "output_type": "stream",
     "text": [
      "<class 'pandas.core.frame.DataFrame'>\n",
      "Int64Index: 59400 entries, 0 to 59399\n",
      "Data columns (total 35 columns):\n",
      " #   Column                 Non-Null Count  Dtype  \n",
      "---  ------                 --------------  -----  \n",
      " 0   id                     59400 non-null  int64  \n",
      " 1   amount_tsh             59400 non-null  float64\n",
      " 2   funder                 55765 non-null  object \n",
      " 3   gps_height             59400 non-null  int64  \n",
      " 4   installer              55745 non-null  object \n",
      " 5   longitude              59400 non-null  float64\n",
      " 6   latitude               59400 non-null  float64\n",
      " 7   num_private            59400 non-null  int64  \n",
      " 8   basin                  59400 non-null  object \n",
      " 9   region                 59400 non-null  object \n",
      " 10  district_code          59400 non-null  int64  \n",
      " 11  lga                    59400 non-null  object \n",
      " 12  population             59400 non-null  int64  \n",
      " 13  public_meeting         56066 non-null  object \n",
      " 14  scheme_management      55523 non-null  object \n",
      " 15  scheme_name            31234 non-null  object \n",
      " 16  permit                 56344 non-null  object \n",
      " 17  construction_year      59400 non-null  int64  \n",
      " 18  extraction_type        59400 non-null  object \n",
      " 19  extraction_type_group  59400 non-null  object \n",
      " 20  extraction_type_class  59400 non-null  object \n",
      " 21  management             59400 non-null  object \n",
      " 22  management_group       59400 non-null  object \n",
      " 23  payment                59400 non-null  object \n",
      " 24  payment_type           59400 non-null  object \n",
      " 25  water_quality          59400 non-null  object \n",
      " 26  quality_group          59400 non-null  object \n",
      " 27  quantity               59400 non-null  object \n",
      " 28  quantity_group         59400 non-null  object \n",
      " 29  source                 59400 non-null  object \n",
      " 30  source_type            59400 non-null  object \n",
      " 31  source_class           59400 non-null  object \n",
      " 32  waterpoint_type        59400 non-null  object \n",
      " 33  waterpoint_type_group  59400 non-null  object \n",
      " 34  status_group           59400 non-null  object \n",
      "dtypes: float64(3), int64(6), object(26)\n",
      "memory usage: 16.3+ MB\n"
     ]
    }
   ],
   "source": [
    "train_df = train_df.loc[:, cols_to_keep]\n",
    "train_df.info()"
   ]
  },
  {
   "cell_type": "code",
   "execution_count": null,
   "metadata": {},
   "outputs": [],
   "source": []
  },
  {
   "cell_type": "markdown",
   "metadata": {},
   "source": [
    "### Hierarchical variables\n",
    "\n",
    "* `scheme_name`\n",
    "  `scheme_management`\n",
    "  \n",
    "* `extraction_type`\n",
    "  `extraction_type_group`\n",
    "  `extraction_type_class`\n",
    "\n",
    "* `management`\n",
    "  `management_group`\n",
    " \n",
    "* `payment`\n",
    "  `payment_type`\n",
    " \n",
    "* `water_quality`\n",
    "  `quality_group`\n",
    " \n",
    "* `quantity`\n",
    "  `quantity_group`\n",
    " \n",
    "* `source`\n",
    "  `source_type`\n",
    "  `source_class`\n",
    " \n",
    "* `waterpoint_type`\n",
    "  `waterpoint_type_group`\n",
    " \n",
    "We should explore these more deeply, but for now, let's just include the most aggregate version of each variable."
   ]
  },
  {
   "cell_type": "code",
   "execution_count": 28,
   "metadata": {},
   "outputs": [
    {
     "name": "stdout",
     "output_type": "stream",
     "text": [
      "<class 'pandas.core.frame.DataFrame'>\n",
      "Int64Index: 59400 entries, 0 to 59399\n",
      "Data columns (total 25 columns):\n",
      " #   Column                 Non-Null Count  Dtype  \n",
      "---  ------                 --------------  -----  \n",
      " 0   id                     59400 non-null  int64  \n",
      " 1   amount_tsh             59400 non-null  float64\n",
      " 2   funder                 55765 non-null  object \n",
      " 3   gps_height             59400 non-null  int64  \n",
      " 4   installer              55745 non-null  object \n",
      " 5   longitude              59400 non-null  float64\n",
      " 6   latitude               59400 non-null  float64\n",
      " 7   num_private            59400 non-null  int64  \n",
      " 8   basin                  59400 non-null  object \n",
      " 9   region                 59400 non-null  object \n",
      " 10  district_code          59400 non-null  int64  \n",
      " 11  lga                    59400 non-null  object \n",
      " 12  population             59400 non-null  int64  \n",
      " 13  public_meeting         56066 non-null  object \n",
      " 14  scheme_management      55523 non-null  object \n",
      " 15  permit                 56344 non-null  object \n",
      " 16  construction_year      59400 non-null  int64  \n",
      " 17  extraction_type_class  59400 non-null  object \n",
      " 18  management_group       59400 non-null  object \n",
      " 19  payment_type           59400 non-null  object \n",
      " 20  quality_group          59400 non-null  object \n",
      " 21  quantity_group         59400 non-null  object \n",
      " 22  source_class           59400 non-null  object \n",
      " 23  waterpoint_type_group  59400 non-null  object \n",
      " 24  status_group           59400 non-null  object \n",
      "dtypes: float64(3), int64(6), object(16)\n",
      "memory usage: 11.8+ MB\n"
     ]
    }
   ],
   "source": [
    "aggs_to_drop = ['extraction_type', 'extraction_type_group', 'management', 'payment', 'water_quality',\n",
    "               'quantity', 'source', 'source_type', 'waterpoint_type', 'scheme_name']\n",
    "\n",
    "cols_to_keep = [c for c in cols_to_keep if c not in aggs_to_drop]\n",
    "cols_to_keep\n",
    "\n",
    "train_df = train_df.loc[:, cols_to_keep]\n",
    "train_df.info()"
   ]
  },
  {
   "cell_type": "markdown",
   "metadata": {},
   "source": [
    "### Missing data\n",
    "Will just fill missing data in the categorical fields with \"missing\"."
   ]
  },
  {
   "cell_type": "code",
   "execution_count": 29,
   "metadata": {},
   "outputs": [
    {
     "name": "stdout",
     "output_type": "stream",
     "text": [
      "<class 'pandas.core.frame.DataFrame'>\n",
      "Int64Index: 59400 entries, 0 to 59399\n",
      "Data columns (total 25 columns):\n",
      " #   Column                 Non-Null Count  Dtype  \n",
      "---  ------                 --------------  -----  \n",
      " 0   id                     59400 non-null  int64  \n",
      " 1   amount_tsh             59400 non-null  float64\n",
      " 2   funder                 59400 non-null  object \n",
      " 3   gps_height             59400 non-null  int64  \n",
      " 4   installer              59400 non-null  object \n",
      " 5   longitude              59400 non-null  float64\n",
      " 6   latitude               59400 non-null  float64\n",
      " 7   num_private            59400 non-null  int64  \n",
      " 8   basin                  59400 non-null  object \n",
      " 9   region                 59400 non-null  object \n",
      " 10  district_code          59400 non-null  int64  \n",
      " 11  lga                    59400 non-null  object \n",
      " 12  population             59400 non-null  int64  \n",
      " 13  public_meeting         59400 non-null  object \n",
      " 14  scheme_management      59400 non-null  object \n",
      " 15  permit                 59400 non-null  object \n",
      " 16  construction_year      59400 non-null  int64  \n",
      " 17  extraction_type_class  59400 non-null  object \n",
      " 18  management_group       59400 non-null  object \n",
      " 19  payment_type           59400 non-null  object \n",
      " 20  quality_group          59400 non-null  object \n",
      " 21  quantity_group         59400 non-null  object \n",
      " 22  source_class           59400 non-null  object \n",
      " 23  waterpoint_type_group  59400 non-null  object \n",
      " 24  status_group           59400 non-null  object \n",
      "dtypes: float64(3), int64(6), object(16)\n",
      "memory usage: 11.8+ MB\n"
     ]
    }
   ],
   "source": [
    "train_df['funder'] = train_df['funder'].fillna(\"missing\")\n",
    "train_df['installer'] = train_df['installer'].fillna(\"missing\")\n",
    "train_df['public_meeting'] = train_df['public_meeting'].fillna(\"missing\")\n",
    "train_df['scheme_management'] = train_df['scheme_management'].fillna(\"missing\")\n",
    "train_df['permit'] = train_df['permit'].fillna(\"missing\")\n",
    "\n",
    "train_df.info()"
   ]
  },
  {
   "cell_type": "markdown",
   "metadata": {},
   "source": [
    "### More on categorical data"
   ]
  },
  {
   "cell_type": "code",
   "execution_count": 30,
   "metadata": {
    "scrolled": true
   },
   "outputs": [
    {
     "data": {
      "text/plain": [
       "['funder',\n",
       " 'installer',\n",
       " 'basin',\n",
       " 'region',\n",
       " 'lga',\n",
       " 'public_meeting',\n",
       " 'scheme_management',\n",
       " 'permit',\n",
       " 'extraction_type_class',\n",
       " 'management_group',\n",
       " 'payment_type',\n",
       " 'quality_group',\n",
       " 'quantity_group',\n",
       " 'source_class',\n",
       " 'waterpoint_type_group',\n",
       " 'status_group']"
      ]
     },
     "execution_count": 30,
     "metadata": {},
     "output_type": "execute_result"
    }
   ],
   "source": [
    "categorical_cols = train_df.select_dtypes(include=['object', 'category']).columns.tolist()\n",
    "categorical_cols"
   ]
  },
  {
   "cell_type": "code",
   "execution_count": 21,
   "metadata": {},
   "outputs": [
    {
     "data": {
      "text/html": [
       "<div>\n",
       "<style scoped>\n",
       "    .dataframe tbody tr th:only-of-type {\n",
       "        vertical-align: middle;\n",
       "    }\n",
       "\n",
       "    .dataframe tbody tr th {\n",
       "        vertical-align: top;\n",
       "    }\n",
       "\n",
       "    .dataframe thead th {\n",
       "        text-align: right;\n",
       "    }\n",
       "</style>\n",
       "<table border=\"1\" class=\"dataframe\">\n",
       "  <thead>\n",
       "    <tr style=\"text-align: right;\">\n",
       "      <th></th>\n",
       "      <th>funder</th>\n",
       "      <th>installer</th>\n",
       "      <th>basin</th>\n",
       "      <th>region</th>\n",
       "      <th>district_code</th>\n",
       "      <th>lga</th>\n",
       "      <th>public_meeting</th>\n",
       "      <th>scheme_management</th>\n",
       "      <th>permit</th>\n",
       "      <th>extraction_type_class</th>\n",
       "      <th>management_group</th>\n",
       "      <th>payment_type</th>\n",
       "      <th>quality_group</th>\n",
       "      <th>quantity_group</th>\n",
       "      <th>source_class</th>\n",
       "      <th>waterpoint_type_group</th>\n",
       "      <th>status_group</th>\n",
       "    </tr>\n",
       "  </thead>\n",
       "  <tbody>\n",
       "    <tr>\n",
       "      <th>count</th>\n",
       "      <td>59400</td>\n",
       "      <td>59400</td>\n",
       "      <td>59400</td>\n",
       "      <td>59400</td>\n",
       "      <td>59400</td>\n",
       "      <td>59400</td>\n",
       "      <td>59400</td>\n",
       "      <td>59400</td>\n",
       "      <td>59400</td>\n",
       "      <td>59400</td>\n",
       "      <td>59400</td>\n",
       "      <td>59400</td>\n",
       "      <td>59400</td>\n",
       "      <td>59400</td>\n",
       "      <td>59400</td>\n",
       "      <td>59400</td>\n",
       "      <td>59400</td>\n",
       "    </tr>\n",
       "    <tr>\n",
       "      <th>unique</th>\n",
       "      <td>1898</td>\n",
       "      <td>2146</td>\n",
       "      <td>9</td>\n",
       "      <td>21</td>\n",
       "      <td>20</td>\n",
       "      <td>125</td>\n",
       "      <td>3</td>\n",
       "      <td>13</td>\n",
       "      <td>3</td>\n",
       "      <td>7</td>\n",
       "      <td>5</td>\n",
       "      <td>7</td>\n",
       "      <td>6</td>\n",
       "      <td>5</td>\n",
       "      <td>3</td>\n",
       "      <td>6</td>\n",
       "      <td>3</td>\n",
       "    </tr>\n",
       "    <tr>\n",
       "      <th>top</th>\n",
       "      <td>Government Of Tanzania</td>\n",
       "      <td>DWE</td>\n",
       "      <td>Lake Victoria</td>\n",
       "      <td>Iringa</td>\n",
       "      <td>1</td>\n",
       "      <td>Njombe</td>\n",
       "      <td>True</td>\n",
       "      <td>VWC</td>\n",
       "      <td>True</td>\n",
       "      <td>gravity</td>\n",
       "      <td>user-group</td>\n",
       "      <td>never pay</td>\n",
       "      <td>good</td>\n",
       "      <td>enough</td>\n",
       "      <td>groundwater</td>\n",
       "      <td>communal standpipe</td>\n",
       "      <td>functional</td>\n",
       "    </tr>\n",
       "    <tr>\n",
       "      <th>freq</th>\n",
       "      <td>9084</td>\n",
       "      <td>17402</td>\n",
       "      <td>10248</td>\n",
       "      <td>5294</td>\n",
       "      <td>12203</td>\n",
       "      <td>2503</td>\n",
       "      <td>51011</td>\n",
       "      <td>36793</td>\n",
       "      <td>38852</td>\n",
       "      <td>26780</td>\n",
       "      <td>52490</td>\n",
       "      <td>25348</td>\n",
       "      <td>50818</td>\n",
       "      <td>33186</td>\n",
       "      <td>45794</td>\n",
       "      <td>34625</td>\n",
       "      <td>32259</td>\n",
       "    </tr>\n",
       "  </tbody>\n",
       "</table>\n",
       "</div>"
      ],
      "text/plain": [
       "                        funder installer          basin  region  \\\n",
       "count                    59400     59400          59400   59400   \n",
       "unique                    1898      2146              9      21   \n",
       "top     Government Of Tanzania       DWE  Lake Victoria  Iringa   \n",
       "freq                      9084     17402          10248    5294   \n",
       "\n",
       "        district_code     lga public_meeting scheme_management permit  \\\n",
       "count           59400   59400          59400             59400  59400   \n",
       "unique             20     125              3                13      3   \n",
       "top                 1  Njombe           True               VWC   True   \n",
       "freq            12203    2503          51011             36793  38852   \n",
       "\n",
       "       extraction_type_class management_group payment_type quality_group  \\\n",
       "count                  59400            59400        59400         59400   \n",
       "unique                     7                5            7             6   \n",
       "top                  gravity       user-group    never pay          good   \n",
       "freq                   26780            52490        25348         50818   \n",
       "\n",
       "       quantity_group source_class waterpoint_type_group status_group  \n",
       "count           59400        59400                 59400        59400  \n",
       "unique              5            3                     6            3  \n",
       "top            enough  groundwater    communal standpipe   functional  \n",
       "freq            33186        45794                 34625        32259  "
      ]
     },
     "execution_count": 21,
     "metadata": {},
     "output_type": "execute_result"
    }
   ],
   "source": [
    "train_df.loc[:, categorical_cols].describe()"
   ]
  },
  {
   "cell_type": "markdown",
   "metadata": {},
   "source": [
    "What options exist for category lumping in Python? I'm thinking of the forcats package in R. Can we do useful lumping with `funder` and `installer`? These feel like they might have decent predictive value.\n",
    "\n",
    "The [siuba](https://github.com/machow/siuba) package is a Python port of dplyr. The author implemented forcats as a module in that package and is now moving it to its own package. See https://pypi.org/project/forcats-py/#description. I pip installed siuba to check it out. There's no need for you to do so unless you want to try it out for yourself. I'll be providing the pre-processed dataset based on this data prep notebook."
   ]
  },
  {
   "cell_type": "code",
   "execution_count": 32,
   "metadata": {},
   "outputs": [],
   "source": [
    "from siuba.dply.forcats import fct_lump"
   ]
  },
  {
   "cell_type": "code",
   "execution_count": 33,
   "metadata": {},
   "outputs": [
    {
     "data": {
      "text/plain": [
       "Other                     34175\n",
       "Danida                     3114\n",
       "Government Of Tanzania     9084\n",
       "Hesawa                     2202\n",
       "Kkkt                       1287\n",
       "Rwssp                      1374\n",
       "Tasaf                       877\n",
       "Unicef                     1057\n",
       "World Bank                 1349\n",
       "World Vision               1246\n",
       "missing                    3635\n",
       "dtype: int64"
      ]
     },
     "execution_count": 33,
     "metadata": {},
     "output_type": "execute_result"
    }
   ],
   "source": [
    "fct_lump(train_df['funder'], n=10).value_counts()"
   ]
  },
  {
   "cell_type": "code",
   "execution_count": 34,
   "metadata": {},
   "outputs": [
    {
     "data": {
      "text/plain": [
       "Other         29980\n",
       "0               777\n",
       "Commu          1060\n",
       "DANIDA         1050\n",
       "DWE           17402\n",
       "Government     1825\n",
       "Hesawa          840\n",
       "KKKT            898\n",
       "RWE            1206\n",
       "TCRS            707\n",
       "missing        3655\n",
       "dtype: int64"
      ]
     },
     "execution_count": 34,
     "metadata": {},
     "output_type": "execute_result"
    }
   ],
   "source": [
    "fct_lump(train_df['installer'], n=10).value_counts()"
   ]
  },
  {
   "cell_type": "markdown",
   "metadata": {},
   "source": [
    "Let's do this for now."
   ]
  },
  {
   "cell_type": "code",
   "execution_count": 35,
   "metadata": {},
   "outputs": [
    {
     "data": {
      "text/html": [
       "<div>\n",
       "<style scoped>\n",
       "    .dataframe tbody tr th:only-of-type {\n",
       "        vertical-align: middle;\n",
       "    }\n",
       "\n",
       "    .dataframe tbody tr th {\n",
       "        vertical-align: top;\n",
       "    }\n",
       "\n",
       "    .dataframe thead th {\n",
       "        text-align: right;\n",
       "    }\n",
       "</style>\n",
       "<table border=\"1\" class=\"dataframe\">\n",
       "  <thead>\n",
       "    <tr style=\"text-align: right;\">\n",
       "      <th></th>\n",
       "      <th>funder</th>\n",
       "      <th>installer</th>\n",
       "      <th>basin</th>\n",
       "      <th>region</th>\n",
       "      <th>lga</th>\n",
       "      <th>public_meeting</th>\n",
       "      <th>scheme_management</th>\n",
       "      <th>permit</th>\n",
       "      <th>extraction_type_class</th>\n",
       "      <th>management_group</th>\n",
       "      <th>payment_type</th>\n",
       "      <th>quality_group</th>\n",
       "      <th>quantity_group</th>\n",
       "      <th>source_class</th>\n",
       "      <th>waterpoint_type_group</th>\n",
       "      <th>status_group</th>\n",
       "    </tr>\n",
       "  </thead>\n",
       "  <tbody>\n",
       "    <tr>\n",
       "      <th>count</th>\n",
       "      <td>59400</td>\n",
       "      <td>59400</td>\n",
       "      <td>59400</td>\n",
       "      <td>59400</td>\n",
       "      <td>59400</td>\n",
       "      <td>59400</td>\n",
       "      <td>59400</td>\n",
       "      <td>59400</td>\n",
       "      <td>59400</td>\n",
       "      <td>59400</td>\n",
       "      <td>59400</td>\n",
       "      <td>59400</td>\n",
       "      <td>59400</td>\n",
       "      <td>59400</td>\n",
       "      <td>59400</td>\n",
       "      <td>59400</td>\n",
       "    </tr>\n",
       "    <tr>\n",
       "      <th>unique</th>\n",
       "      <td>11</td>\n",
       "      <td>11</td>\n",
       "      <td>9</td>\n",
       "      <td>21</td>\n",
       "      <td>125</td>\n",
       "      <td>3</td>\n",
       "      <td>10</td>\n",
       "      <td>3</td>\n",
       "      <td>7</td>\n",
       "      <td>5</td>\n",
       "      <td>7</td>\n",
       "      <td>6</td>\n",
       "      <td>5</td>\n",
       "      <td>3</td>\n",
       "      <td>6</td>\n",
       "      <td>3</td>\n",
       "    </tr>\n",
       "    <tr>\n",
       "      <th>top</th>\n",
       "      <td>Other</td>\n",
       "      <td>Other</td>\n",
       "      <td>Lake Victoria</td>\n",
       "      <td>Iringa</td>\n",
       "      <td>Njombe</td>\n",
       "      <td>True</td>\n",
       "      <td>VWC</td>\n",
       "      <td>True</td>\n",
       "      <td>gravity</td>\n",
       "      <td>user-group</td>\n",
       "      <td>never pay</td>\n",
       "      <td>good</td>\n",
       "      <td>enough</td>\n",
       "      <td>groundwater</td>\n",
       "      <td>communal standpipe</td>\n",
       "      <td>functional</td>\n",
       "    </tr>\n",
       "    <tr>\n",
       "      <th>freq</th>\n",
       "      <td>34175</td>\n",
       "      <td>29980</td>\n",
       "      <td>10248</td>\n",
       "      <td>5294</td>\n",
       "      <td>2503</td>\n",
       "      <td>51011</td>\n",
       "      <td>36793</td>\n",
       "      <td>38852</td>\n",
       "      <td>26780</td>\n",
       "      <td>52490</td>\n",
       "      <td>25348</td>\n",
       "      <td>50818</td>\n",
       "      <td>33186</td>\n",
       "      <td>45794</td>\n",
       "      <td>34625</td>\n",
       "      <td>32259</td>\n",
       "    </tr>\n",
       "  </tbody>\n",
       "</table>\n",
       "</div>"
      ],
      "text/plain": [
       "       funder installer          basin  region     lga public_meeting  \\\n",
       "count   59400     59400          59400   59400   59400          59400   \n",
       "unique     11        11              9      21     125              3   \n",
       "top     Other     Other  Lake Victoria  Iringa  Njombe           True   \n",
       "freq    34175     29980          10248    5294    2503          51011   \n",
       "\n",
       "       scheme_management permit extraction_type_class management_group  \\\n",
       "count              59400  59400                 59400            59400   \n",
       "unique                10      3                     7                5   \n",
       "top                  VWC   True               gravity       user-group   \n",
       "freq               36793  38852                 26780            52490   \n",
       "\n",
       "       payment_type quality_group quantity_group source_class  \\\n",
       "count         59400         59400          59400        59400   \n",
       "unique            7             6              5            3   \n",
       "top       never pay          good         enough  groundwater   \n",
       "freq          25348         50818          33186        45794   \n",
       "\n",
       "       waterpoint_type_group status_group  \n",
       "count                  59400        59400  \n",
       "unique                     6            3  \n",
       "top       communal standpipe   functional  \n",
       "freq                   34625        32259  "
      ]
     },
     "execution_count": 35,
     "metadata": {},
     "output_type": "execute_result"
    }
   ],
   "source": [
    "train_df['funder'] = fct_lump(train_df['funder'], n=10)\n",
    "train_df['installer'] = fct_lump(train_df['installer'], n=10)\n",
    "train_df['scheme_management'] = fct_lump(train_df['scheme_management'], n=10)\n",
    "\n",
    "train_df.loc[:, categorical_cols].describe()"
   ]
  },
  {
   "cell_type": "code",
   "execution_count": 36,
   "metadata": {},
   "outputs": [
    {
     "name": "stdout",
     "output_type": "stream",
     "text": [
      "<class 'pandas.core.frame.DataFrame'>\n",
      "Int64Index: 59400 entries, 0 to 59399\n",
      "Data columns (total 25 columns):\n",
      " #   Column                 Non-Null Count  Dtype   \n",
      "---  ------                 --------------  -----   \n",
      " 0   id                     59400 non-null  int64   \n",
      " 1   amount_tsh             59400 non-null  float64 \n",
      " 2   funder                 59400 non-null  category\n",
      " 3   gps_height             59400 non-null  int64   \n",
      " 4   installer              59400 non-null  category\n",
      " 5   longitude              59400 non-null  float64 \n",
      " 6   latitude               59400 non-null  float64 \n",
      " 7   num_private            59400 non-null  int64   \n",
      " 8   basin                  59400 non-null  object  \n",
      " 9   region                 59400 non-null  object  \n",
      " 10  district_code          59400 non-null  int64   \n",
      " 11  lga                    59400 non-null  object  \n",
      " 12  population             59400 non-null  int64   \n",
      " 13  public_meeting         59400 non-null  object  \n",
      " 14  scheme_management      59400 non-null  category\n",
      " 15  permit                 59400 non-null  object  \n",
      " 16  construction_year      59400 non-null  int64   \n",
      " 17  extraction_type_class  59400 non-null  object  \n",
      " 18  management_group       59400 non-null  object  \n",
      " 19  payment_type           59400 non-null  object  \n",
      " 20  quality_group          59400 non-null  object  \n",
      " 21  quantity_group         59400 non-null  object  \n",
      " 22  source_class           59400 non-null  object  \n",
      " 23  waterpoint_type_group  59400 non-null  object  \n",
      " 24  status_group           59400 non-null  object  \n",
      "dtypes: category(3), float64(3), int64(6), object(13)\n",
      "memory usage: 10.6+ MB\n"
     ]
    }
   ],
   "source": [
    "train_df.info()"
   ]
  },
  {
   "cell_type": "markdown",
   "metadata": {},
   "source": [
    "## Before moving on to model building\n",
    "\n",
    "The work we did above is pretty typical data prep work to get ready to build predictive models. However, Jupyter notebooks such as this one, while great for documenting our thinking and exploration, is not that great for automated workflows. So, I'll typically extract the relevant code and create a data prep script that I can rerun as needed to generate preprocessed data files for the next stage in our analysis. See `data_prep.py` for the code I ended up with for this dataset. You'll see that it ends with exporting to both csv and json files since I wanted to experiment with both formats."
   ]
  },
  {
   "cell_type": "code",
   "execution_count": null,
   "metadata": {},
   "outputs": [],
   "source": [
    "# %load data_prep.py\n",
    "import pandas as pd\n",
    "from siuba.dply.forcats import fct_lump\n",
    "\n",
    "\n",
    "train_x = pd.read_csv(\"./data/raw/train_x.csv\", parse_dates=['date_recorded'])\n",
    "train_y = pd.read_csv(\"./data/raw/train_y.csv\")\n",
    "test_x = pd.read_csv(\"./data/raw/test_x.csv\", parse_dates=['date_recorded'])\n",
    "\n",
    "dict_df = {\"train_x\": train_x,\n",
    "           \"test_x\": test_x}\n",
    "           \n",
    "for key in dict_df:\n",
    "\n",
    "    df = dict_df[key]\n",
    "\n",
    "    # Initialize list of columns to keep\n",
    "    cols_to_keep = df.columns.tolist()\n",
    "\n",
    "    to_drop = ['date_recorded', 'recorded_by']\n",
    "    cols_to_keep = [c for c in cols_to_keep if c not in to_drop]\n",
    "\n",
    "    # Geo cols to remove\n",
    "    cols_to_keep.remove('region_code')\n",
    "    cols_to_keep.remove('district_code')\n",
    "    cols_to_keep.remove('wpt_name')\n",
    "    cols_to_keep.remove('subvillage')\n",
    "    cols_to_keep.remove('ward')\n",
    "\n",
    "    # Aggregated cols to remove\n",
    "    aggs_to_drop = ['extraction_type', 'extraction_type_group', 'management', 'payment', 'water_quality',\n",
    "                   'quantity', 'source', 'source_type', 'waterpoint_type', 'scheme_name']\n",
    "\n",
    "    cols_to_keep = [c for c in cols_to_keep if c not in aggs_to_drop]\n",
    "\n",
    "    df = df.loc[:, cols_to_keep]\n",
    "\n",
    "\n",
    "    # Change booleans to strings\n",
    "    df[\"permit\"] = df[\"permit\"].astype(\"string\")\n",
    "    df[\"public_meeting\"] = df[\"public_meeting\"].astype(\"string\")\n",
    "\n",
    "    # Missing data - code as \"missing\" for categorical data\n",
    "    df['funder'] = df['funder'].fillna(\"missing\")\n",
    "    df['installer'] = df['installer'].fillna(\"missing\")\n",
    "    df['public_meeting'] = df['public_meeting'].fillna(\"missing\")\n",
    "    df['scheme_management'] = df['scheme_management'].fillna(\"missing\")\n",
    "    df['permit'] = df['permit'].fillna(\"missing\")\n",
    "\n",
    "\n",
    "    # Factor level lumping\n",
    "\n",
    "    df['funder'] = fct_lump(df['funder'], n=10)\n",
    "    df['installer'] = fct_lump(df['installer'], n=10)\n",
    "    df['scheme_management'] = fct_lump(df['scheme_management'], n=10)\n",
    "    \n",
    "    df.to_json(f\"data/{key}.json\", orient='records')\n",
    "    df.to_csv(f\"data/{key}.csv\", index=False)\n"
   ]
  },
  {
   "cell_type": "markdown",
   "metadata": {},
   "source": [
    "## Further exploration\n",
    "In the process of putting this notebook together, I ran across numerous interesting and relevant Python packages. I'll mention two of them and you can explore them if you are interested.\n",
    "\n",
    "\n",
    "### HoloViews\n",
    "\n",
    "This is another data visualization package. It has a different philosophy than packages like matplotlib and Seaborn (at least that's what they say):\n",
    "\n",
    "> HoloViews helps you understand your data better, by letting you work seamlessly with both the data and its graphical representation.\n",
    "\n",
    "* https://holoviews.org/index.html\n",
    "* https://holoviews.org/getting_started/Introduction.html"
   ]
  },
  {
   "cell_type": "markdown",
   "metadata": {},
   "source": [
    "### Pyvtreat\n",
    "\n",
    "In the pcda class, one of the textbooks we use is *Practical Data Science with R* by Mount and Zumel. They created an R package called vtreat for preparing data for predictive modeling. Now it appears they've ported to Python.\n",
    "\n",
    "* https://github.com/WinVector/pyvtreat"
   ]
  },
  {
   "cell_type": "code",
   "execution_count": null,
   "metadata": {},
   "outputs": [],
   "source": []
  }
 ],
 "metadata": {
  "kernelspec": {
   "display_name": "Python 3",
   "language": "python",
   "name": "python3"
  },
  "language_info": {
   "codemirror_mode": {
    "name": "ipython",
    "version": 3
   },
   "file_extension": ".py",
   "mimetype": "text/x-python",
   "name": "python",
   "nbconvert_exporter": "python",
   "pygments_lexer": "ipython3",
   "version": "3.7.10"
  },
  "toc-autonumbering": true
 },
 "nbformat": 4,
 "nbformat_minor": 4
}
